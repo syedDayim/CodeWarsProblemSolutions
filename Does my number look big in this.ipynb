{
 "cells": [
  {
   "cell_type": "code",
   "execution_count": null,
   "metadata": {},
   "outputs": [],
   "source": [
    "def narcissistic( number ):\n",
    "    temp_number = number\n",
    "    sum = 1\n",
    "    total_sum = 0\n",
    "    length = len(str(number))\n",
    "\n",
    "    while number != 0:\n",
    "        digit = number % 10\n",
    "        for i in range(length):\n",
    "            sum = sum * digit\n",
    "        total_sum = total_sum + sum\n",
    "        number = number // 10\n",
    "        sum = 1\n",
    "\n",
    "    if temp_number == total_sum:\n",
    "        return True\n",
    "    else:\n",
    "        return False"
   ]
  }
 ],
 "metadata": {
  "language_info": {
   "name": "python"
  },
  "orig_nbformat": 4
 },
 "nbformat": 4,
 "nbformat_minor": 2
}
