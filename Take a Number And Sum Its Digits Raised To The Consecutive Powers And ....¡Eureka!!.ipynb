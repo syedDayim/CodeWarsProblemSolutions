{
 "cells": [
  {
   "cell_type": "code",
   "execution_count": 57,
   "metadata": {},
   "outputs": [
    {
     "data": {
      "text/plain": [
       "[89, 135]"
      ]
     },
     "execution_count": 57,
     "metadata": {},
     "output_type": "execute_result"
    }
   ],
   "source": [
    "def is_arm(number, b):\n",
    "    res = []\n",
    "    for i in range(number, b + 1):\n",
    "        t_copy = rev(i)\n",
    "        copy = i\n",
    "        length = len(str(i))\n",
    "        len_test = 0\n",
    "        total_sum = 0\n",
    "        while len_test != length:\n",
    "            right_most_digit = t_copy % 10\n",
    "            sum = pow(right_most_digit, len_test+1)\n",
    "            total_sum += sum\n",
    "            t_copy //= 10\n",
    "            len_test += 1\n",
    "            if i == total_sum:\n",
    "                res.append(copy)        \n",
    "    return res\n",
    "def rev(number):\n",
    "    return int(str(number)[::-1])\n",
    "\n",
    "is_arm(89,135)\n"
   ]
  }
 ],
 "metadata": {
  "kernelspec": {
   "display_name": "Python 3",
   "language": "python",
   "name": "python3"
  },
  "language_info": {
   "codemirror_mode": {
    "name": "ipython",
    "version": 3
   },
   "file_extension": ".py",
   "mimetype": "text/x-python",
   "name": "python",
   "nbconvert_exporter": "python",
   "pygments_lexer": "ipython3",
   "version": "3.11.2"
  },
  "orig_nbformat": 4
 },
 "nbformat": 4,
 "nbformat_minor": 2
}
