{
 "cells": [
  {
   "cell_type": "code",
   "execution_count": 52,
   "metadata": {},
   "outputs": [
    {
     "data": {
      "text/plain": [
       "2"
      ]
     },
     "execution_count": 52,
     "metadata": {},
     "output_type": "execute_result"
    }
   ],
   "source": [
    "def to_list(x):\n",
    "    a = []\n",
    "    b = str(x)\n",
    "    for item in b:\n",
    "        a.append(int(item))\n",
    "    return a\n",
    "def persistence(n):\n",
    "    lst = to_list(n)\n",
    "    product = 1\n",
    "    count = 0\n",
    "    while(len(lst) != 1):\n",
    "        # 999\n",
    "        for item in lst:\n",
    "            product *= item \n",
    "        lst = []\n",
    "        lst = to_list(product)\n",
    "        product = 1  \n",
    "        count += 1\n",
    "    return count\n",
    "\n",
    "per(25)"
   ]
  }
 ],
 "metadata": {
  "kernelspec": {
   "display_name": "Python 3",
   "language": "python",
   "name": "python3"
  },
  "language_info": {
   "codemirror_mode": {
    "name": "ipython",
    "version": 3
   },
   "file_extension": ".py",
   "mimetype": "text/x-python",
   "name": "python",
   "nbconvert_exporter": "python",
   "pygments_lexer": "ipython3",
   "version": "3.11.2"
  },
  "orig_nbformat": 4
 },
 "nbformat": 4,
 "nbformat_minor": 2
}
